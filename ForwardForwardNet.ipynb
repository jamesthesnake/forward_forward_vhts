{
 "cells": [
  {
   "cell_type": "code",
   "execution_count": 1,
   "metadata": {},
   "outputs": [],
   "source": [
    "from random import sample\n",
    "\n",
    "import numpy as np\n",
    "import pandas as pd\n",
    "import matplotlib.pyplot as plt\n",
    "from rdkit import Chem\n",
    "from rdkit.Chem import AllChem\n",
    "from rdkit.Chem import DataStructs\n",
    "from sklearn.metrics import roc_auc_score\n",
    "\n",
    "import torch\n",
    "from torch.nn import ReLU\n",
    "from torch.nn import Dropout\n",
    "from torch.nn import Linear\n",
    "from torch.nn import Sequential\n",
    "from torch.optim import Adam\n",
    "from torch.nn import CrossEntropyLoss"
   ]
  },
  {
   "cell_type": "code",
   "execution_count": 2,
   "metadata": {},
   "outputs": [],
   "source": [
    "def fp_from_smi(smi, nbits=2048):\n",
    "    mol = Chem.MolFromSmiles(smi)\n",
    "    fp = AllChem.GetMorganFingerprintAsBitVect(mol, 3, nBits=nbits)\n",
    "\n",
    "    fingerprint = np.zeros((0, ), dtype=np.uint8)\n",
    "    DataStructs.ConvertToNumpyArray(fp, fingerprint)\n",
    "    return fingerprint"
   ]
  },
  {
   "cell_type": "markdown",
   "metadata": {},
   "source": [
    "Our target metric is ROC-AUC, so balancing the training set to have a 50-50 ratio is a good idea."
   ]
  },
  {
   "cell_type": "code",
   "execution_count": 3,
   "metadata": {},
   "outputs": [],
   "source": [
    "def sample_batch_backprop_net(pos_X, neg_X, pos_y, neg_y, batch_size):\n",
    "    n_half = batch_size // 2\n",
    "    pos_sample_idx = sample(range(len(pos_X)), n_half)\n",
    "    neg_sample_idx = sample(range(len(neg_X)), n_half)\n",
    "    \n",
    "    X_out = np.append(pos_X[pos_sample_idx], neg_X[neg_sample_idx],axis=0)\n",
    "    y_out = np.append(pos_y[pos_sample_idx], neg_y[neg_sample_idx],axis=0)\n",
    "    return X_out, y_out\n",
    "\n",
    "def sample_batch_ff_net(pos_X, neg_X, batch_size):\n",
    "    n_half = batch_size // 2\n",
    "    pos_sample_idx = sample(range(len(pos_X)), n_half)\n",
    "    neg_sample_idx = sample(range(len(neg_X)), n_half)\n",
    "    \n",
    "    return pos_X[pos_sample_idx], neg_X[neg_sample_idx]"
   ]
  },
  {
   "cell_type": "code",
   "execution_count": 4,
   "metadata": {},
   "outputs": [],
   "source": [
    "class SimpleDenseNet(torch.nn.Module):\n",
    "    def __init__(self, input_dim, output_dim, hidden_dims, dropout=0.0):\n",
    "        super().__init__()\n",
    "        \n",
    "        hidden_dims = [input_dim] + hidden_dims + [output_dim]\n",
    "        layers = []\n",
    "        for (in_dim, out_dim) in zip(hidden_dims[:-1], hidden_dims[1:]):\n",
    "            layers.append(Linear(in_dim, out_dim))\n",
    "            layers.append(ReLU())\n",
    "            if dropout > 0:\n",
    "                layers.append(Dropout(p=dropout))\n",
    "        if dropout > 0:\n",
    "            self.mlp = Sequential(*layers[:-2])\n",
    "        else:\n",
    "            self.mlp = Sequential(*layers[:-1])\n",
    "            \n",
    "    def forward(self, x):\n",
    "        return self.mlp(x)"
   ]
  },
  {
   "cell_type": "markdown",
   "metadata": {},
   "source": [
    "The code below is adapted from the [pytorch_forward_forward](https://github.com/mohammadpz/pytorch_forward_forward) repo."
   ]
  },
  {
   "cell_type": "code",
   "execution_count": 5,
   "metadata": {},
   "outputs": [],
   "source": [
    "class ForwardForwardNet(torch.nn.Module):\n",
    "    def __init__(self, input_dim, hidden_dims, dropout=0.0):\n",
    "        super().__init__()\n",
    "        \n",
    "        hidden_dims = [input_dim] + hidden_dims\n",
    "        self.layers = []\n",
    "        for (in_dim, out_dim) in zip(hidden_dims[:-1], hidden_dims[1:]):\n",
    "            self.layers += [Layer(in_dim, out_dim, dropout)]\n",
    "        \n",
    "    def predict(self, x):\n",
    "        h = x\n",
    "        goodness = []\n",
    "        for layer in self.layers:\n",
    "            h = layer(h)\n",
    "            goodness += [h.pow(2).mean(1)]\n",
    "        \n",
    "        return sum(goodness)\n",
    "\n",
    "    def ff_train(self, x_pos, x_neg):\n",
    "        h_pos, h_neg = x_pos, x_neg\n",
    "        for i, layer in enumerate(self.layers):\n",
    "            h_pos, h_neg = layer.train(h_pos, h_neg)\n",
    "            \n",
    "        \n",
    "class Layer(torch.nn.Module):\n",
    "    def __init__(self, in_dim, out_dim, dropout=0, threshold=2.0, opt_iters=10, lr=0.001):\n",
    "        super().__init__()\n",
    "        \n",
    "        self.threshold = threshold\n",
    "        self.opt_iters = opt_iters\n",
    "\n",
    "        layers = []\n",
    "        layers.append(Linear(in_dim, out_dim))\n",
    "        layers.append(ReLU())\n",
    "        if dropout > 0:\n",
    "            layers.append(Dropout(p=dropout))\n",
    "            \n",
    "        if dropout > 0:\n",
    "            self.mlp = Sequential(*layers[:-2])\n",
    "        else:\n",
    "            self.mlp = Sequential(*layers[:-1])\n",
    "            \n",
    "        self.optimizer = Adam(self.parameters(), lr=lr)\n",
    "            \n",
    "    def forward(self, x):\n",
    "        x_direction = x / (x.norm(2, 1, keepdim=True) + 1e-4)\n",
    "        return self.mlp(x_direction)\n",
    "\n",
    "    def train(self, x_pos, x_neg):\n",
    "        for i in range(self.opt_iters):\n",
    "            g_pos = self.forward(x_pos).pow(2).mean(1)\n",
    "            g_neg = self.forward(x_neg).pow(2).mean(1)\n",
    "            loss = torch.log(1 + torch.exp(torch.cat([-g_pos + self.threshold, g_neg - self.threshold]))).mean()\n",
    "            self.optimizer.zero_grad()\n",
    "            loss.backward()\n",
    "            self.optimizer.step()\n",
    "        return self.forward(x_pos).detach(), self.forward(x_neg).detach()"
   ]
  },
  {
   "cell_type": "code",
   "execution_count": 6,
   "metadata": {},
   "outputs": [],
   "source": [
    "def eval_dense_model(model, X_test, y_test, batch_size):\n",
    "    model.eval()\n",
    "    out = model(torch.tensor(X_test).float())\n",
    "    y_pred = (torch.max(out, 1)[1])\n",
    "    y_pred = np.squeeze(np.asarray(y_pred.numpy()))\n",
    "    return roc_auc_score(y_test, y_pred)"
   ]
  },
  {
   "cell_type": "markdown",
   "metadata": {},
   "source": [
    "DRD2 sets are taken from the [REINVENT](https://github.com/MolecularAI/ReinventCommunity/tree/master/notebooks/data) repo. It's relatively easy to get a pretty good performance (ROC-AUC > 0.9), so it a good \"toy\" problem to test the Forward-Forward Algorithm."
   ]
  },
  {
   "cell_type": "code",
   "execution_count": 7,
   "metadata": {},
   "outputs": [
    {
     "name": "stdout",
     "output_type": "stream",
     "text": [
      "Total number of compounds in the TRAINING set: 275768\n",
      "Number of active compounds (1): 3448; number of inactive compounds (0): 272320\n",
      "\n",
      "Total number of compounds in the TEST set: 68944\n",
      "Number of active compounds (1): 863; number of inactive compounds (0): 68081\n",
      "\n"
     ]
    }
   ],
   "source": [
    "train_file = './data/drd2.train.csv'\n",
    "test_file = './data/drd2.test.csv'\n",
    "\n",
    "train_df = pd.read_csv(train_file)\n",
    "test_df = pd.read_csv(test_file)\n",
    "\n",
    "train_df_pos = train_df[train_df['activity'] == 1]\n",
    "train_df_neg = train_df[train_df['activity'] == 0]\n",
    "train_X_arr_pos = np.array([fp_from_smi(smi) for smi in list(train_df_pos.canonical)])\n",
    "train_y_arr_pos = np.array(list(train_df_pos.activity))\n",
    "train_X_arr_neg = np.array([fp_from_smi(smi) for smi in list(train_df_neg.canonical)])\n",
    "train_y_arr_neg = np.array(list(train_df_neg.activity))\n",
    "tr_act = len(train_df_pos)\n",
    "tr_inact = len(train_df_neg)\n",
    "print(f'Total number of compounds in the TRAINING set: {len(train_df)}')\n",
    "print(f'Number of active compounds (1): {tr_act}; number of inactive compounds (0): {tr_inact}\\n')\n",
    "\n",
    "\n",
    "test_X_arr = np.array([fp_from_smi(smi) for smi in list(test_df.canonical)])\n",
    "test_y_arr = np.array(list(test_df.activity))\n",
    "te_total = len(test_df)\n",
    "te_act = sum(test_y_arr)\n",
    "print(f'Total number of compounds in the TEST set: {te_total}')\n",
    "print(f'Number of active compounds (1): {te_act}; number of inactive compounds (0): {te_total - te_act}\\n')"
   ]
  },
  {
   "cell_type": "markdown",
   "metadata": {},
   "source": [
    "The DRD2 daset is an easy one, so we run a relatively small model -- just for 100 iterations. "
   ]
  },
  {
   "cell_type": "code",
   "execution_count": 8,
   "metadata": {},
   "outputs": [],
   "source": [
    "input_dim = 2048\n",
    "num_iters = 100\n",
    "batch_size = 128\n",
    "lr = 0.001\n",
    "dropout = 0.0\n",
    "hidden_dims = [256, 128]\n",
    "\n",
    "simple_net_performance = []\n",
    "ff_net_performance = []"
   ]
  },
  {
   "cell_type": "code",
   "execution_count": 9,
   "metadata": {
    "scrolled": false
   },
   "outputs": [
    {
     "name": "stdout",
     "output_type": "stream",
     "text": [
      "Iter: 5, Test ROC-AUC: 0.9313808139690737\n",
      "Iter: 10, Test ROC-AUC: 0.9412301851674432\n",
      "Iter: 15, Test ROC-AUC: 0.9489007819616682\n",
      "Iter: 20, Test ROC-AUC: 0.9528845853866081\n",
      "Iter: 25, Test ROC-AUC: 0.9571434173488016\n",
      "Iter: 30, Test ROC-AUC: 0.9527997144291844\n",
      "Iter: 35, Test ROC-AUC: 0.9349036182328175\n",
      "Iter: 40, Test ROC-AUC: 0.9542783396023921\n",
      "Iter: 45, Test ROC-AUC: 0.9597073406340341\n",
      "Iter: 50, Test ROC-AUC: 0.9530249760598883\n",
      "Iter: 55, Test ROC-AUC: 0.9652856679155425\n",
      "Iter: 60, Test ROC-AUC: 0.9645088173972034\n",
      "Iter: 65, Test ROC-AUC: 0.9587216103753992\n",
      "Iter: 70, Test ROC-AUC: 0.9640436823405587\n",
      "Iter: 75, Test ROC-AUC: 0.9640191988607123\n",
      "Iter: 80, Test ROC-AUC: 0.9629975560942734\n",
      "Iter: 85, Test ROC-AUC: 0.9630122444801666\n",
      "Iter: 90, Test ROC-AUC: 0.9669340264935249\n",
      "Iter: 95, Test ROC-AUC: 0.9686019752594138\n",
      "Iter: 100, Test ROC-AUC: 0.9653215804233466\n"
     ]
    }
   ],
   "source": [
    "dense_model = SimpleDenseNet(input_dim=input_dim, output_dim=2,\n",
    "                                      hidden_dims=hidden_dims, dropout=dropout)\n",
    "\n",
    "optimizer = Adam(dense_model.parameters(), lr=lr)\n",
    "\n",
    "loss_ce = CrossEntropyLoss()\n",
    "for iter_ in range(num_iters):\n",
    "    dense_model.train()\n",
    "    optimizer.zero_grad()\n",
    "    (X,y) = sample_batch_backprop_net(train_X_arr_pos, train_X_arr_neg, \n",
    "                                      train_y_arr_pos, train_y_arr_neg, batch_size=batch_size)\n",
    "    \n",
    "    \n",
    "    X_tensor = torch.tensor(X).float()\n",
    "    out = dense_model(X_tensor)\n",
    "    loss = loss_ce(out.squeeze(), torch.tensor(y).type(torch.LongTensor))\n",
    "    loss.backward()\n",
    "    optimizer.step()\n",
    "    \n",
    "    roc_auc_val = eval_dense_model(dense_model, test_X_arr, test_y_arr, batch_size)\n",
    "    simple_net_performance.append(roc_auc_val)\n",
    "    if (iter_ + 1) % 5 == 0:\n",
    "        print(f'Iter: {iter_+1}, Test ROC-AUC: {roc_auc_val}')"
   ]
  },
  {
   "cell_type": "code",
   "execution_count": 10,
   "metadata": {
    "scrolled": false
   },
   "outputs": [
    {
     "name": "stdout",
     "output_type": "stream",
     "text": [
      "Iter: 5, Test ROC-AUC: 0.8790943556549766\n",
      "Iter: 10, Test ROC-AUC: 0.8964738989339993\n",
      "Iter: 15, Test ROC-AUC: 0.9347269831588889\n",
      "Iter: 20, Test ROC-AUC: 0.9650256256167355\n",
      "Iter: 25, Test ROC-AUC: 0.9753141591291391\n",
      "Iter: 30, Test ROC-AUC: 0.9807545551484469\n",
      "Iter: 35, Test ROC-AUC: 0.9834089405090246\n",
      "Iter: 40, Test ROC-AUC: 0.9855801239281073\n",
      "Iter: 45, Test ROC-AUC: 0.9866296797337872\n",
      "Iter: 50, Test ROC-AUC: 0.9875544523399578\n",
      "Iter: 55, Test ROC-AUC: 0.9881517147890585\n",
      "Iter: 60, Test ROC-AUC: 0.9885923153054189\n",
      "Iter: 65, Test ROC-AUC: 0.9889999988596502\n",
      "Iter: 70, Test ROC-AUC: 0.9894348891170686\n",
      "Iter: 75, Test ROC-AUC: 0.9898163701567196\n",
      "Iter: 80, Test ROC-AUC: 0.9902520348307755\n",
      "Iter: 85, Test ROC-AUC: 0.9903723587520645\n",
      "Iter: 90, Test ROC-AUC: 0.9904696544159799\n",
      "Iter: 95, Test ROC-AUC: 0.9906111769289608\n",
      "Iter: 100, Test ROC-AUC: 0.9907552354436777\n"
     ]
    }
   ],
   "source": [
    "ff_model = ForwardForwardNet(input_dim=input_dim, hidden_dims=hidden_dims, dropout=dropout)\n",
    "\n",
    "for iter_ in range(num_iters):\n",
    "    ff_model.train()\n",
    "    (X_pos, X_neg) = sample_batch_ff_net(train_X_arr_pos, train_X_arr_neg, batch_size=batch_size)\n",
    "    \n",
    "    \n",
    "    X_pos = torch.tensor(X_pos).float()\n",
    "    X_neg = torch.tensor(X_neg).float()\n",
    "    \n",
    "    ff_model.ff_train(X_pos, X_neg)\n",
    "    \n",
    "    y_pred = ff_model.predict(torch.tensor(test_X_arr).float())\n",
    "    y_pred = y_pred.detach().numpy()\n",
    "    roc_auc_val = roc_auc_score(test_y_arr, y_pred)\n",
    "    ff_net_performance.append(roc_auc_val)\n",
    "    if (iter_ + 1) % 5 == 0:\n",
    "        print(f'Iter: {iter_+1}, Test ROC-AUC: {roc_auc_val}')"
   ]
  },
  {
   "cell_type": "code",
   "execution_count": 11,
   "metadata": {},
   "outputs": [
    {
     "data": {
      "text/plain": [
       "<matplotlib.legend.Legend at 0x7f8ed50689e8>"
      ]
     },
     "execution_count": 11,
     "metadata": {},
     "output_type": "execute_result"
    },
    {
     "data": {
      "image/png": "[encoded data removed]",
      "text/plain": [
       "<Figure size 1152x576 with 2 Axes>"
      ]
     },
     "metadata": {
      "needs_background": "light"
     },
     "output_type": "display_data"
    }
   ],
   "source": [
    "fig, (ax1, ax2) = plt.subplots(1, 2, figsize=(16,8))\n",
    "\n",
    "ax1.plot(simple_net_performance,lw=3, label='SimpleNet')\n",
    "ax1.plot(ff_net_performance,lw=3, label='Forward-Forward')\n",
    "ax1.set_xlabel('Iteration', fontsize=20)\n",
    "ax2.set_ylabel('ROC-AUC', fontsize=20)\n",
    "\n",
    "ax2.hist(y_pred[test_y_arr==1], density=True, label='1', color='green')\n",
    "ax2.hist(y_pred[test_y_arr==0], density=True, label='0', color='purple')\n",
    "ax2.set_xlabel('Goodness score', fontsize=20)\n",
    "ax2.set_ylabel('Density', fontsize=20)\n",
    "ax1.legend(fontsize=20)\n",
    "plt.legend(fontsize=20)"
   ]
  },
  {
   "cell_type": "code",
   "execution_count": null,
   "metadata": {},
   "outputs": [],
   "source": []
  }
 ],
 "metadata": {
  "kernelspec": {
   "display_name": "Python 3",
   "language": "python",
   "name": "python3"
  },
  "language_info": {
   "codemirror_mode": {
    "name": "ipython",
    "version": 3
   },
   "file_extension": ".py",
   "mimetype": "text/x-python",
   "name": "python",
   "nbconvert_exporter": "python",
   "pygments_lexer": "ipython3",
   "version": "3.7.3"
  }
 },
 "nbformat": 4,
 "nbformat_minor": 2
}
