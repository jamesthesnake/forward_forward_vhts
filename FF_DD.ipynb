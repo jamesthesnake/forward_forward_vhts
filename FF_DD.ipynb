{
 "cells": [
  {
   "cell_type": "code",
   "execution_count": 1,
   "metadata": {},
   "outputs": [],
   "source": [
    "from random import sample\n",
    "\n",
    "import numpy as np\n",
    "import pandas as pd\n",
    "import matplotlib.pyplot as plt\n",
    "from rdkit import Chem\n",
    "from rdkit.Chem import AllChem, DataStructs\n",
    "from sklearn.metrics import roc_auc_score\n",
    "\n",
    "import torch\n",
    "from torch.nn import ReLU\n",
    "from torch.nn import Dropout\n",
    "from torch.nn import Linear, ModuleList, Sequential\n",
    "from torch.optim import Adam\n",
    "from torch.nn import CrossEntropyLoss"
   ]
  },
  {
   "cell_type": "code",
   "execution_count": 2,
   "metadata": {},
   "outputs": [],
   "source": [
    "def fp_from_smi(smi, nbits=2048):\n",
    "    mol = Chem.MolFromSmiles(smi)\n",
    "    fp = AllChem.GetMorganFingerprintAsBitVect(mol, 3, nBits=nbits)\n",
    "\n",
    "    fingerprint = np.zeros((0, ), dtype=np.uint8)\n",
    "    DataStructs.ConvertToNumpyArray(fp, fingerprint)\n",
    "    return fingerprint"
   ]
  },
  {
   "cell_type": "code",
   "execution_count": 3,
   "metadata": {},
   "outputs": [],
   "source": [
    "def sample_batch_backprop_net(pos_X, neg_X, pos_y, neg_y, batch_size):\n",
    "    n_half = batch_size // 2\n",
    "    pos_sample_idx = sample(range(len(pos_X)), n_half)\n",
    "    neg_sample_idx = sample(range(len(neg_X)), n_half)\n",
    "    \n",
    "    X_out = np.append(pos_X[pos_sample_idx], neg_X[neg_sample_idx],axis=0)\n",
    "    y_out = np.append(pos_y[pos_sample_idx], neg_y[neg_sample_idx],axis=0)\n",
    "    return X_out, y_out\n",
    "\n",
    "def sample_batch_ff_net(pos_X, neg_X, batch_size):\n",
    "    n_half = batch_size // 2\n",
    "    pos_sample_idx = sample(range(len(pos_X)), n_half)\n",
    "    neg_sample_idx = sample(range(len(neg_X)), n_half)\n",
    "    \n",
    "    return pos_X[pos_sample_idx], neg_X[neg_sample_idx]"
   ]
  },
  {
   "cell_type": "code",
   "execution_count": 4,
   "metadata": {},
   "outputs": [],
   "source": [
    "class BackpropagationDenseNet(torch.nn.Module):\n",
    "    def __init__(self, input_dim, output_dim, hidden_dims, dropout=0.0):\n",
    "        super().__init__()\n",
    "        \n",
    "        hidden_dims = [input_dim] + hidden_dims + [output_dim]\n",
    "        layers = []\n",
    "        for (in_dim, out_dim) in zip(hidden_dims[:-1], hidden_dims[1:]):\n",
    "            layers.append(Linear(in_dim, out_dim))\n",
    "            layers.append(ReLU())\n",
    "            if dropout > 0:\n",
    "                layers.append(Dropout(p=dropout))\n",
    "        if dropout > 0:\n",
    "            self.mlp = Sequential(*layers[:-2])\n",
    "        else:\n",
    "            self.mlp = Sequential(*layers[:-1])\n",
    "            \n",
    "    def forward(self, x):\n",
    "        return self.mlp(x)"
   ]
  },
  {
   "cell_type": "markdown",
   "metadata": {},
   "source": [
    "Adapted from this [pytorch_forward_forward](https://github.com/mohammadpz/pytorch_forward_forward) repo."
   ]
  },
  {
   "cell_type": "code",
   "execution_count": 13,
   "metadata": {},
   "outputs": [],
   "source": [
    "class ForwardForwardNet(torch.nn.Module):\n",
    "    def __init__(self, input_dim, hidden_dims, dropout=0.0):\n",
    "        super().__init__()\n",
    "        \n",
    "        hidden_dims = [input_dim] + hidden_dims\n",
    "        self.layers = []\n",
    "        for (in_dim, out_dim) in zip(hidden_dims[:-1], hidden_dims[1:]):\n",
    "            self.layers += [Layer(in_dim, out_dim, dropout)]\n",
    "        \n",
    "    def predict(self, x):\n",
    "        h = x\n",
    "        goodness = []\n",
    "        for layer in self.layers:\n",
    "            h = layer(h)\n",
    "            goodness += [h.pow(2).mean(1)]\n",
    "        \n",
    "        ## TODO: verify the correct dimension\n",
    "        return sum(goodness)\n",
    "\n",
    "    def ff_train(self, x_pos, x_neg):\n",
    "        h_pos, h_neg = x_pos, x_neg\n",
    "        for i, layer in enumerate(self.layers):\n",
    "            h_pos, h_neg = layer.train(h_pos, h_neg)\n",
    "            \n",
    "        \n",
    "class Layer(torch.nn.Module):\n",
    "    def __init__(self, in_dim, out_dim, dropout=0, threshold=2.0, opt_iters=50, lr=0.001):\n",
    "        super().__init__()\n",
    "        \n",
    "        self.threshold = threshold\n",
    "        self.opt_iters = opt_iters\n",
    "\n",
    "        layers = []\n",
    "        layers.append(Linear(in_dim, out_dim))\n",
    "        layers.append(ReLU())\n",
    "        if dropout > 0:\n",
    "            layers.append(Dropout(p=dropout))\n",
    "            \n",
    "        if dropout > 0:\n",
    "            self.mlp = Sequential(*layers[:-2])\n",
    "        else:\n",
    "            self.mlp = Sequential(*layers[:-1])\n",
    "            \n",
    "        self.optimizer = Adam(self.parameters(), lr=lr)\n",
    "            \n",
    "    def forward(self, x):\n",
    "        x_direction = x / (x.norm(2, 1, keepdim=True) + 1e-4)\n",
    "        return self.mlp(x_direction)\n",
    "\n",
    "    def train(self, x_pos, x_neg):\n",
    "        for i in range(self.opt_iters):\n",
    "            g_pos = self.forward(x_pos).pow(2).mean(1)\n",
    "            g_neg = self.forward(x_neg).pow(2).mean(1)\n",
    "            loss = torch.log(1 + torch.exp(torch.cat([-g_pos + self.threshold, g_neg - self.threshold]))).mean()\n",
    "            self.optimizer.zero_grad()\n",
    "            loss.backward()\n",
    "            self.optimizer.step()\n",
    "        return self.forward(x_pos).detach(), self.forward(x_neg).detach()"
   ]
  },
  {
   "cell_type": "code",
   "execution_count": 6,
   "metadata": {},
   "outputs": [],
   "source": [
    "def eval_dense_model(model, X_test, y_test, batch_size):\n",
    "    y_true = []\n",
    "    y_pred = []\n",
    "    \n",
    "    # Can we do it better? In one step?\n",
    "    model.eval()\n",
    "    for idx in range(0, len(y_test), batch_size):\n",
    "        X_ = X_test[idx:idx + batch_size]\n",
    "        X_ = torch.tensor(X_).float()\n",
    "        y_ = y_test[idx:idx + batch_size]\n",
    "        \n",
    "        out = model(X_)\n",
    "        \n",
    "        y_hat = torch.max(out, 1)\n",
    "        \n",
    "        y_true.append(torch.tensor(y_))\n",
    "        y_pred.append(y_hat[1])\n",
    "        \n",
    "    y_true = torch.cat(y_true, dim=0).numpy()\n",
    "    y_pred = torch.cat(y_pred, dim=0).numpy()\n",
    "    \n",
    "    y_true = np.squeeze(np.asarray(y_true))\n",
    "    y_pred = np.squeeze(np.asarray(y_pred))\n",
    "\n",
    "    return roc_auc_score(y_true, y_pred)"
   ]
  },
  {
   "cell_type": "code",
   "execution_count": 9,
   "metadata": {},
   "outputs": [],
   "source": [
    "# TODO: print some stats, number of actives, number of inactives\n",
    "train_file = './data/drd2.test.csv'\n",
    "test_file = './data/drd2.test.csv'\n",
    "\n",
    "train_df = pd.read_csv(train_file)\n",
    "test_df = pd.read_csv(test_file).sample(frac=1)\n",
    "\n",
    "train_df_pos = train_df[train_df['activity'] == 1]\n",
    "train_df_neg = train_df[train_df['activity'] == 0]\n",
    "\n",
    "train_X_arr_pos = np.array([fp_from_smi(smi) for smi in list(train_df_pos.canonical)])\n",
    "train_y_arr_pos = np.array(list(train_df_pos.activity))\n",
    "train_X_arr_neg = np.array([fp_from_smi(smi) for smi in list(train_df_neg.canonical)])\n",
    "train_y_arr_neg = np.array(list(train_df_neg.activity))\n",
    "\n",
    "test_X_arr = np.array([fp_from_smi(smi) for smi in list(test_df.canonical)])\n",
    "test_y_arr = np.array(list(test_df.activity))"
   ]
  },
  {
   "cell_type": "code",
   "execution_count": null,
   "metadata": {},
   "outputs": [],
   "source": [
    "input_dim = 2048\n",
    "num_iters = 50\n",
    "batch_size = 128\n",
    "lr = 0.001\n",
    "dropout = 0.0\n",
    "hidden_dims = [256, 256]"
   ]
  },
  {
   "cell_type": "code",
   "execution_count": 11,
   "metadata": {
    "scrolled": true
   },
   "outputs": [
    {
     "name": "stdout",
     "output_type": "stream",
     "text": [
      "Iter: 0, Test ROC-AUC: 0.5000073441929467\n",
      "Iter: 1, Test ROC-AUC: 0.5037969477534114\n",
      "Iter: 2, Test ROC-AUC: 0.6083464361508034\n",
      "Iter: 3, Test ROC-AUC: 0.7759882522187505\n",
      "Iter: 4, Test ROC-AUC: 0.8716014917340896\n",
      "Iter: 5, Test ROC-AUC: 0.9149648832691166\n",
      "Iter: 6, Test ROC-AUC: 0.9307834664192438\n",
      "Iter: 7, Test ROC-AUC: 0.9366996265762974\n",
      "Iter: 8, Test ROC-AUC: 0.9400575566869149\n",
      "Iter: 9, Test ROC-AUC: 0.941080850407504\n",
      "Iter: 10, Test ROC-AUC: 0.9428091781408974\n",
      "Iter: 11, Test ROC-AUC: 0.9425219376489762\n",
      "Iter: 12, Test ROC-AUC: 0.9449038985546203\n",
      "Iter: 13, Test ROC-AUC: 0.9467701320199953\n",
      "Iter: 14, Test ROC-AUC: 0.9502969785683855\n",
      "Iter: 15, Test ROC-AUC: 0.9535977890694344\n",
      "Iter: 16, Test ROC-AUC: 0.9578974098112255\n",
      "Iter: 17, Test ROC-AUC: 0.9555138234816503\n",
      "Iter: 18, Test ROC-AUC: 0.9575122609301377\n",
      "Iter: 19, Test ROC-AUC: 0.9584890385920405\n",
      "Iter: 20, Test ROC-AUC: 0.9618665418704183\n",
      "Iter: 21, Test ROC-AUC: 0.9611345649666883\n",
      "Iter: 22, Test ROC-AUC: 0.964130170211841\n",
      "Iter: 23, Test ROC-AUC: 0.9647315770664632\n",
      "Iter: 24, Test ROC-AUC: 0.9661033072134799\n",
      "Iter: 25, Test ROC-AUC: 0.9692915039193226\n",
      "Iter: 26, Test ROC-AUC: 0.9705073805905287\n",
      "Iter: 27, Test ROC-AUC: 0.9709561933272757\n",
      "Iter: 28, Test ROC-AUC: 0.9715804497277398\n",
      "Iter: 29, Test ROC-AUC: 0.9751660413096301\n",
      "Iter: 30, Test ROC-AUC: 0.9761754551012553\n",
      "Iter: 31, Test ROC-AUC: 0.9747955637942896\n",
      "Iter: 32, Test ROC-AUC: 0.9755250812869403\n",
      "Iter: 33, Test ROC-AUC: 0.9774965843545746\n",
      "Iter: 34, Test ROC-AUC: 0.9766813789374981\n",
      "Iter: 35, Test ROC-AUC: 0.978546803945944\n",
      "Iter: 36, Test ROC-AUC: 0.9792983625275073\n",
      "Iter: 37, Test ROC-AUC: 0.9792012625952697\n",
      "Iter: 38, Test ROC-AUC: 0.9752802890388405\n",
      "Iter: 39, Test ROC-AUC: 0.970580831030068\n",
      "Iter: 40, Test ROC-AUC: 0.9758678244745715\n",
      "Iter: 41, Test ROC-AUC: 0.9782497853802156\n",
      "Iter: 42, Test ROC-AUC: 0.9804840454599245\n",
      "Iter: 43, Test ROC-AUC: 0.9812209071455219\n",
      "Iter: 44, Test ROC-AUC: 0.9803314428319766\n",
      "Iter: 45, Test ROC-AUC: 0.9793016218854431\n",
      "Iter: 46, Test ROC-AUC: 0.9792722451136565\n",
      "Iter: 47, Test ROC-AUC: 0.9804554771450672\n",
      "Iter: 48, Test ROC-AUC: 0.9813890066162924\n",
      "Iter: 49, Test ROC-AUC: 0.9833360347141533\n"
     ]
    }
   ],
   "source": [
    "dense_model = BackpropagationDenseNet(input_dim=input_dim, output_dim=2,\n",
    "                                      hidden_dims=hidden_dims, dropout=dropout)\n",
    "\n",
    "optimizer = Adam(dense_model.parameters(), lr=lr)\n",
    "\n",
    "loss_ce = CrossEntropyLoss()\n",
    "for iter in range(num_iters):\n",
    "    dense_model.train()\n",
    "    optimizer.zero_grad()\n",
    "    (X,y) = sample_batch_backprop_net(train_X_arr_pos, train_X_arr_neg, \n",
    "                                    train_y_arr_pos, train_y_arr_neg, batch_size=batch_size)\n",
    "    \n",
    "    \n",
    "    X_tensor = torch.tensor(X).float()\n",
    "    out = dense_model(X_tensor)\n",
    "    loss = loss_ce(out.squeeze(), torch.tensor(y).type(torch.LongTensor))\n",
    "    print(f'Iter: {iter}, Test ROC-AUC: {eval_dense_model(dense_model, test_X_arr, test_y_arr, batch_size)}')\n",
    "    loss.backward()\n",
    "    optimizer.step()"
   ]
  },
  {
   "cell_type": "code",
   "execution_count": 14,
   "metadata": {
    "scrolled": true
   },
   "outputs": [
    {
     "name": "stderr",
     "output_type": "stream",
     "text": [
      "100%|██████████| 50/50 [00:00<00:00, 85.07it/s]\n",
      "100%|██████████| 50/50 [00:00<00:00, 340.27it/s]\n",
      " 20%|██        | 10/50 [00:00<00:00, 94.27it/s]"
     ]
    },
    {
     "name": "stdout",
     "output_type": "stream",
     "text": [
      "Iter: 0, Test ROC-AUC: 0.8567442574836263\n"
     ]
    },
    {
     "name": "stderr",
     "output_type": "stream",
     "text": [
      "100%|██████████| 50/50 [00:00<00:00, 89.82it/s]\n",
      "100%|██████████| 50/50 [00:00<00:00, 354.84it/s]\n",
      " 16%|█▌        | 8/50 [00:00<00:00, 75.89it/s]"
     ]
    },
    {
     "name": "stdout",
     "output_type": "stream",
     "text": [
      "Iter: 1, Test ROC-AUC: 0.8966580228721145\n"
     ]
    },
    {
     "name": "stderr",
     "output_type": "stream",
     "text": [
      "100%|██████████| 50/50 [00:00<00:00, 84.48it/s]\n",
      "100%|██████████| 50/50 [00:00<00:00, 356.49it/s]\n",
      " 16%|█▌        | 8/50 [00:00<00:00, 77.74it/s]"
     ]
    },
    {
     "name": "stdout",
     "output_type": "stream",
     "text": [
      "Iter: 2, Test ROC-AUC: 0.9189197694662088\n"
     ]
    },
    {
     "name": "stderr",
     "output_type": "stream",
     "text": [
      "100%|██████████| 50/50 [00:00<00:00, 85.79it/s]\n",
      "100%|██████████| 50/50 [00:00<00:00, 354.94it/s]\n",
      " 16%|█▌        | 8/50 [00:00<00:00, 79.04it/s]"
     ]
    },
    {
     "name": "stdout",
     "output_type": "stream",
     "text": [
      "Iter: 3, Test ROC-AUC: 0.9445561429340277\n"
     ]
    },
    {
     "name": "stderr",
     "output_type": "stream",
     "text": [
      "100%|██████████| 50/50 [00:00<00:00, 88.08it/s]\n",
      "100%|██████████| 50/50 [00:00<00:00, 322.35it/s]\n",
      " 16%|█▌        | 8/50 [00:00<00:00, 79.67it/s]"
     ]
    },
    {
     "name": "stdout",
     "output_type": "stream",
     "text": [
      "Iter: 4, Test ROC-AUC: 0.959117592579339\n"
     ]
    },
    {
     "name": "stderr",
     "output_type": "stream",
     "text": [
      "100%|██████████| 50/50 [00:00<00:00, 88.87it/s]\n",
      "100%|██████████| 50/50 [00:00<00:00, 333.32it/s]\n",
      " 16%|█▌        | 8/50 [00:00<00:00, 77.99it/s]"
     ]
    },
    {
     "name": "stdout",
     "output_type": "stream",
     "text": [
      "Iter: 5, Test ROC-AUC: 0.9690884365588444\n"
     ]
    },
    {
     "name": "stderr",
     "output_type": "stream",
     "text": [
      "100%|██████████| 50/50 [00:00<00:00, 81.93it/s]\n",
      "100%|██████████| 50/50 [00:00<00:00, 327.14it/s]\n",
      " 16%|█▌        | 8/50 [00:00<00:00, 78.84it/s]"
     ]
    },
    {
     "name": "stdout",
     "output_type": "stream",
     "text": [
      "Iter: 6, Test ROC-AUC: 0.9744657133671613\n"
     ]
    },
    {
     "name": "stderr",
     "output_type": "stream",
     "text": [
      "100%|██████████| 50/50 [00:00<00:00, 84.63it/s]\n",
      "100%|██████████| 50/50 [00:00<00:00, 286.52it/s]\n",
      " 16%|█▌        | 8/50 [00:00<00:00, 77.74it/s]"
     ]
    },
    {
     "name": "stdout",
     "output_type": "stream",
     "text": [
      "Iter: 7, Test ROC-AUC: 0.978861097959739\n"
     ]
    },
    {
     "name": "stderr",
     "output_type": "stream",
     "text": [
      "100%|██████████| 50/50 [00:00<00:00, 83.28it/s]\n",
      "100%|██████████| 50/50 [00:00<00:00, 337.76it/s]\n",
      " 12%|█▏        | 6/50 [00:00<00:00, 56.02it/s]"
     ]
    },
    {
     "name": "stdout",
     "output_type": "stream",
     "text": [
      "Iter: 8, Test ROC-AUC: 0.9813229769603562\n"
     ]
    },
    {
     "name": "stderr",
     "output_type": "stream",
     "text": [
      "100%|██████████| 50/50 [00:00<00:00, 67.50it/s]\n",
      "100%|██████████| 50/50 [00:00<00:00, 298.49it/s]\n",
      " 16%|█▌        | 8/50 [00:00<00:00, 74.84it/s]"
     ]
    },
    {
     "name": "stdout",
     "output_type": "stream",
     "text": [
      "Iter: 9, Test ROC-AUC: 0.9824196189996092\n"
     ]
    },
    {
     "name": "stderr",
     "output_type": "stream",
     "text": [
      "100%|██████████| 50/50 [00:00<00:00, 81.72it/s]\n",
      "100%|██████████| 50/50 [00:00<00:00, 320.72it/s]\n",
      " 16%|█▌        | 8/50 [00:00<00:00, 77.47it/s]"
     ]
    },
    {
     "name": "stdout",
     "output_type": "stream",
     "text": [
      "Iter: 10, Test ROC-AUC: 0.9837027167369631\n"
     ]
    },
    {
     "name": "stderr",
     "output_type": "stream",
     "text": [
      "100%|██████████| 50/50 [00:00<00:00, 87.17it/s]\n",
      "100%|██████████| 50/50 [00:00<00:00, 337.83it/s]\n",
      " 18%|█▊        | 9/50 [00:00<00:00, 82.35it/s]"
     ]
    },
    {
     "name": "stdout",
     "output_type": "stream",
     "text": [
      "Iter: 11, Test ROC-AUC: 0.9846134221925649\n"
     ]
    },
    {
     "name": "stderr",
     "output_type": "stream",
     "text": [
      "100%|██████████| 50/50 [00:00<00:00, 87.37it/s]\n",
      "100%|██████████| 50/50 [00:00<00:00, 327.03it/s]\n",
      " 16%|█▌        | 8/50 [00:00<00:00, 77.29it/s]"
     ]
    },
    {
     "name": "stdout",
     "output_type": "stream",
     "text": [
      "Iter: 12, Test ROC-AUC: 0.9854742075603046\n"
     ]
    },
    {
     "name": "stderr",
     "output_type": "stream",
     "text": [
      "100%|██████████| 50/50 [00:00<00:00, 85.81it/s]\n",
      "100%|██████████| 50/50 [00:00<00:00, 331.68it/s]\n",
      " 16%|█▌        | 8/50 [00:00<00:00, 79.18it/s]"
     ]
    },
    {
     "name": "stdout",
     "output_type": "stream",
     "text": [
      "Iter: 13, Test ROC-AUC: 0.9852836159667554\n"
     ]
    },
    {
     "name": "stderr",
     "output_type": "stream",
     "text": [
      "100%|██████████| 50/50 [00:00<00:00, 88.61it/s]\n",
      "100%|██████████| 50/50 [00:00<00:00, 326.57it/s]\n",
      " 14%|█▍        | 7/50 [00:00<00:00, 66.11it/s]"
     ]
    },
    {
     "name": "stdout",
     "output_type": "stream",
     "text": [
      "Iter: 14, Test ROC-AUC: 0.9865731813595429\n"
     ]
    },
    {
     "name": "stderr",
     "output_type": "stream",
     "text": [
      "100%|██████████| 50/50 [00:00<00:00, 78.31it/s]\n",
      "100%|██████████| 50/50 [00:00<00:00, 336.18it/s]\n",
      " 18%|█▊        | 9/50 [00:00<00:00, 82.13it/s]"
     ]
    },
    {
     "name": "stdout",
     "output_type": "stream",
     "text": [
      "Iter: 15, Test ROC-AUC: 0.9867506674407656\n"
     ]
    },
    {
     "name": "stderr",
     "output_type": "stream",
     "text": [
      "100%|██████████| 50/50 [00:00<00:00, 87.35it/s]\n",
      "100%|██████████| 50/50 [00:00<00:00, 345.49it/s]\n",
      " 16%|█▌        | 8/50 [00:00<00:00, 74.40it/s]"
     ]
    },
    {
     "name": "stdout",
     "output_type": "stream",
     "text": [
      "Iter: 16, Test ROC-AUC: 0.9875001155242402\n"
     ]
    },
    {
     "name": "stderr",
     "output_type": "stream",
     "text": [
      "100%|██████████| 50/50 [00:00<00:00, 83.95it/s]\n",
      "100%|██████████| 50/50 [00:00<00:00, 312.67it/s]\n",
      " 14%|█▍        | 7/50 [00:00<00:00, 65.28it/s]"
     ]
    },
    {
     "name": "stdout",
     "output_type": "stream",
     "text": [
      "Iter: 17, Test ROC-AUC: 0.9883281796615282\n"
     ]
    },
    {
     "name": "stderr",
     "output_type": "stream",
     "text": [
      "100%|██████████| 50/50 [00:00<00:00, 71.56it/s]\n",
      "100%|██████████| 50/50 [00:00<00:00, 109.04it/s]\n",
      " 18%|█▊        | 9/50 [00:00<00:00, 84.76it/s]"
     ]
    },
    {
     "name": "stdout",
     "output_type": "stream",
     "text": [
      "Iter: 18, Test ROC-AUC: 0.9891636475622734\n"
     ]
    },
    {
     "name": "stderr",
     "output_type": "stream",
     "text": [
      "100%|██████████| 50/50 [00:00<00:00, 84.92it/s]\n",
      "100%|██████████| 50/50 [00:00<00:00, 303.42it/s]\n",
      " 16%|█▌        | 8/50 [00:00<00:00, 79.07it/s]"
     ]
    },
    {
     "name": "stdout",
     "output_type": "stream",
     "text": [
      "Iter: 19, Test ROC-AUC: 0.9895555023808376\n"
     ]
    },
    {
     "name": "stderr",
     "output_type": "stream",
     "text": [
      "100%|██████████| 50/50 [00:00<00:00, 84.65it/s]\n",
      "100%|██████████| 50/50 [00:00<00:00, 318.78it/s]\n",
      " 16%|█▌        | 8/50 [00:00<00:00, 76.14it/s]"
     ]
    },
    {
     "name": "stdout",
     "output_type": "stream",
     "text": [
      "Iter: 20, Test ROC-AUC: 0.9901693850023887\n"
     ]
    },
    {
     "name": "stderr",
     "output_type": "stream",
     "text": [
      "100%|██████████| 50/50 [00:00<00:00, 91.93it/s]\n",
      "100%|██████████| 50/50 [00:00<00:00, 343.68it/s]\n",
      " 18%|█▊        | 9/50 [00:00<00:00, 88.58it/s]"
     ]
    },
    {
     "name": "stdout",
     "output_type": "stream",
     "text": [
      "Iter: 21, Test ROC-AUC: 0.99073697282715\n"
     ]
    },
    {
     "name": "stderr",
     "output_type": "stream",
     "text": [
      "100%|██████████| 50/50 [00:00<00:00, 78.38it/s]\n",
      "100%|██████████| 50/50 [00:00<00:00, 281.97it/s]\n",
      " 18%|█▊        | 9/50 [00:00<00:00, 89.66it/s]"
     ]
    },
    {
     "name": "stdout",
     "output_type": "stream",
     "text": [
      "Iter: 22, Test ROC-AUC: 0.9907633710734076\n"
     ]
    },
    {
     "name": "stderr",
     "output_type": "stream",
     "text": [
      "100%|██████████| 50/50 [00:00<00:00, 94.42it/s]\n",
      "100%|██████████| 50/50 [00:00<00:00, 373.54it/s]\n",
      " 12%|█▏        | 6/50 [00:00<00:00, 55.29it/s]"
     ]
    },
    {
     "name": "stdout",
     "output_type": "stream",
     "text": [
      "Iter: 23, Test ROC-AUC: 0.9909761569371826\n"
     ]
    },
    {
     "name": "stderr",
     "output_type": "stream",
     "text": [
      "100%|██████████| 50/50 [00:00<00:00, 77.22it/s]\n",
      "100%|██████████| 50/50 [00:00<00:00, 355.33it/s]\n",
      " 18%|█▊        | 9/50 [00:00<00:00, 86.18it/s]"
     ]
    },
    {
     "name": "stdout",
     "output_type": "stream",
     "text": [
      "Iter: 24, Test ROC-AUC: 0.9913033522215536\n"
     ]
    },
    {
     "name": "stderr",
     "output_type": "stream",
     "text": [
      "100%|██████████| 50/50 [00:00<00:00, 90.86it/s]\n",
      "100%|██████████| 50/50 [00:00<00:00, 320.55it/s]\n",
      " 16%|█▌        | 8/50 [00:00<00:00, 80.00it/s]"
     ]
    },
    {
     "name": "stdout",
     "output_type": "stream",
     "text": [
      "Iter: 25, Test ROC-AUC: 0.9915587480205357\n"
     ]
    },
    {
     "name": "stderr",
     "output_type": "stream",
     "text": [
      "100%|██████████| 50/50 [00:00<00:00, 93.53it/s]\n",
      "100%|██████████| 50/50 [00:00<00:00, 282.16it/s]\n",
      " 16%|█▌        | 8/50 [00:00<00:00, 79.10it/s]"
     ]
    },
    {
     "name": "stdout",
     "output_type": "stream",
     "text": [
      "Iter: 26, Test ROC-AUC: 0.9917639258791029\n"
     ]
    },
    {
     "name": "stderr",
     "output_type": "stream",
     "text": [
      "100%|██████████| 50/50 [00:00<00:00, 86.75it/s]\n",
      "100%|██████████| 50/50 [00:00<00:00, 399.60it/s]\n",
      " 16%|█▌        | 8/50 [00:00<00:00, 71.62it/s]"
     ]
    },
    {
     "name": "stdout",
     "output_type": "stream",
     "text": [
      "Iter: 27, Test ROC-AUC: 0.991779746104697\n"
     ]
    },
    {
     "name": "stderr",
     "output_type": "stream",
     "text": [
      "100%|██████████| 50/50 [00:00<00:00, 80.00it/s]\n",
      "100%|██████████| 50/50 [00:00<00:00, 182.08it/s]\n",
      " 12%|█▏        | 6/50 [00:00<00:00, 55.80it/s]"
     ]
    },
    {
     "name": "stdout",
     "output_type": "stream",
     "text": [
      "Iter: 28, Test ROC-AUC: 0.9921800088753254\n"
     ]
    },
    {
     "name": "stderr",
     "output_type": "stream",
     "text": [
      "100%|██████████| 50/50 [00:00<00:00, 62.45it/s]\n",
      "100%|██████████| 50/50 [00:00<00:00, 228.32it/s]\n",
      "  8%|▊         | 4/50 [00:00<00:01, 39.57it/s]"
     ]
    },
    {
     "name": "stdout",
     "output_type": "stream",
     "text": [
      "Iter: 29, Test ROC-AUC: 0.9925102848061005\n"
     ]
    },
    {
     "name": "stderr",
     "output_type": "stream",
     "text": [
      "100%|██████████| 50/50 [00:00<00:00, 56.28it/s]\n",
      "100%|██████████| 50/50 [00:00<00:00, 237.43it/s]\n",
      " 10%|█         | 5/50 [00:00<00:00, 49.36it/s]"
     ]
    },
    {
     "name": "stdout",
     "output_type": "stream",
     "text": [
      "Iter: 30, Test ROC-AUC: 0.9926038190177766\n"
     ]
    },
    {
     "name": "stderr",
     "output_type": "stream",
     "text": [
      "100%|██████████| 50/50 [00:00<00:00, 59.07it/s]\n",
      "100%|██████████| 50/50 [00:00<00:00, 184.94it/s]\n",
      "  8%|▊         | 4/50 [00:00<00:01, 39.29it/s]"
     ]
    },
    {
     "name": "stdout",
     "output_type": "stream",
     "text": [
      "Iter: 31, Test ROC-AUC: 0.9926405314724368\n"
     ]
    },
    {
     "name": "stderr",
     "output_type": "stream",
     "text": [
      "100%|██████████| 50/50 [00:00<00:00, 61.76it/s]\n",
      "100%|██████████| 50/50 [00:00<00:00, 209.67it/s]\n",
      " 10%|█         | 5/50 [00:00<00:00, 49.58it/s]"
     ]
    },
    {
     "name": "stdout",
     "output_type": "stream",
     "text": [
      "Iter: 32, Test ROC-AUC: 0.9926827329241428\n"
     ]
    },
    {
     "name": "stderr",
     "output_type": "stream",
     "text": [
      "100%|██████████| 50/50 [00:00<00:00, 68.78it/s]\n",
      "100%|██████████| 50/50 [00:00<00:00, 258.22it/s]\n",
      "  6%|▌         | 3/50 [00:00<00:01, 29.25it/s]"
     ]
    },
    {
     "name": "stdout",
     "output_type": "stream",
     "text": [
      "Iter: 33, Test ROC-AUC: 0.9927729737375917\n"
     ]
    },
    {
     "name": "stderr",
     "output_type": "stream",
     "text": [
      "100%|██████████| 50/50 [00:01<00:00, 39.85it/s]\n",
      "100%|██████████| 50/50 [00:00<00:00, 218.08it/s]\n",
      "  8%|▊         | 4/50 [00:00<00:01, 36.17it/s]"
     ]
    },
    {
     "name": "stdout",
     "output_type": "stream",
     "text": [
      "Iter: 34, Test ROC-AUC: 0.9928858768752775\n"
     ]
    },
    {
     "name": "stderr",
     "output_type": "stream",
     "text": [
      "100%|██████████| 50/50 [00:00<00:00, 55.87it/s]\n",
      "100%|██████████| 50/50 [00:00<00:00, 134.51it/s]\n",
      " 12%|█▏        | 6/50 [00:00<00:00, 52.31it/s]"
     ]
    },
    {
     "name": "stdout",
     "output_type": "stream",
     "text": [
      "Iter: 35, Test ROC-AUC: 0.9930901441560401\n"
     ]
    },
    {
     "name": "stderr",
     "output_type": "stream",
     "text": [
      "100%|██████████| 50/50 [00:00<00:00, 52.27it/s]\n",
      "100%|██████████| 50/50 [00:00<00:00, 156.25it/s]\n",
      "  8%|▊         | 4/50 [00:00<00:01, 36.19it/s]"
     ]
    },
    {
     "name": "stdout",
     "output_type": "stream",
     "text": [
      "Iter: 36, Test ROC-AUC: 0.9930611673576817\n"
     ]
    },
    {
     "name": "stderr",
     "output_type": "stream",
     "text": [
      "100%|██████████| 50/50 [00:00<00:00, 53.68it/s]\n",
      "100%|██████████| 50/50 [00:00<00:00, 218.19it/s]\n",
      " 10%|█         | 5/50 [00:00<00:00, 47.52it/s]"
     ]
    },
    {
     "name": "stdout",
     "output_type": "stream",
     "text": [
      "Iter: 37, Test ROC-AUC: 0.9934929088881126\n"
     ]
    },
    {
     "name": "stderr",
     "output_type": "stream",
     "text": [
      "100%|██████████| 50/50 [00:00<00:00, 64.55it/s]\n",
      "100%|██████████| 50/50 [00:00<00:00, 271.53it/s]\n",
      " 12%|█▏        | 6/50 [00:00<00:00, 55.03it/s]"
     ]
    },
    {
     "name": "stdout",
     "output_type": "stream",
     "text": [
      "Iter: 38, Test ROC-AUC: 0.9940185080129911\n"
     ]
    },
    {
     "name": "stderr",
     "output_type": "stream",
     "text": [
      "100%|██████████| 50/50 [00:00<00:00, 68.82it/s]\n",
      "100%|██████████| 50/50 [00:00<00:00, 270.70it/s]\n",
      " 12%|█▏        | 6/50 [00:00<00:00, 57.04it/s]"
     ]
    },
    {
     "name": "stdout",
     "output_type": "stream",
     "text": [
      "Iter: 39, Test ROC-AUC: 0.9940977367920563\n"
     ]
    },
    {
     "name": "stderr",
     "output_type": "stream",
     "text": [
      "100%|██████████| 50/50 [00:00<00:00, 66.58it/s]\n",
      "100%|██████████| 50/50 [00:00<00:00, 269.57it/s]\n",
      " 12%|█▏        | 6/50 [00:00<00:00, 56.70it/s]"
     ]
    },
    {
     "name": "stdout",
     "output_type": "stream",
     "text": [
      "Iter: 40, Test ROC-AUC: 0.9940994047663523\n"
     ]
    },
    {
     "name": "stderr",
     "output_type": "stream",
     "text": [
      "100%|██████████| 50/50 [00:00<00:00, 68.65it/s]\n",
      "100%|██████████| 50/50 [00:00<00:00, 261.90it/s]\n",
      " 10%|█         | 5/50 [00:00<00:01, 44.18it/s]"
     ]
    },
    {
     "name": "stdout",
     "output_type": "stream",
     "text": [
      "Iter: 41, Test ROC-AUC: 0.9937826853817695\n"
     ]
    },
    {
     "name": "stderr",
     "output_type": "stream",
     "text": [
      "100%|██████████| 50/50 [00:00<00:00, 58.71it/s]\n",
      "100%|██████████| 50/50 [00:00<00:00, 260.99it/s]\n",
      "  8%|▊         | 4/50 [00:00<00:01, 39.02it/s]"
     ]
    },
    {
     "name": "stdout",
     "output_type": "stream",
     "text": [
      "Iter: 42, Test ROC-AUC: 0.9941096423840984\n"
     ]
    },
    {
     "name": "stderr",
     "output_type": "stream",
     "text": [
      "100%|██████████| 50/50 [00:00<00:00, 61.64it/s]\n",
      "100%|██████████| 50/50 [00:00<00:00, 228.60it/s]\n",
      "  8%|▊         | 4/50 [00:00<00:01, 37.54it/s]"
     ]
    },
    {
     "name": "stdout",
     "output_type": "stream",
     "text": [
      "Iter: 43, Test ROC-AUC: 0.9940270351060762\n"
     ]
    },
    {
     "name": "stderr",
     "output_type": "stream",
     "text": [
      "100%|██████████| 50/50 [00:00<00:00, 55.31it/s]\n",
      "100%|██████████| 50/50 [00:00<00:00, 217.88it/s]\n",
      " 12%|█▏        | 6/50 [00:00<00:00, 57.49it/s]"
     ]
    },
    {
     "name": "stdout",
     "output_type": "stream",
     "text": [
      "Iter: 44, Test ROC-AUC: 0.9940539439567104\n"
     ]
    },
    {
     "name": "stderr",
     "output_type": "stream",
     "text": [
      "100%|██████████| 50/50 [00:00<00:00, 62.22it/s]\n",
      "100%|██████████| 50/50 [00:00<00:00, 235.59it/s]\n",
      " 12%|█▏        | 6/50 [00:00<00:00, 57.68it/s]"
     ]
    },
    {
     "name": "stdout",
     "output_type": "stream",
     "text": [
      "Iter: 45, Test ROC-AUC: 0.994093703017483\n"
     ]
    },
    {
     "name": "stderr",
     "output_type": "stream",
     "text": [
      "100%|██████████| 50/50 [00:00<00:00, 61.50it/s]\n",
      "100%|██████████| 50/50 [00:00<00:00, 252.60it/s]\n",
      " 10%|█         | 5/50 [00:00<00:01, 44.76it/s]"
     ]
    },
    {
     "name": "stdout",
     "output_type": "stream",
     "text": [
      "Iter: 46, Test ROC-AUC: 0.9941308920362277\n"
     ]
    },
    {
     "name": "stderr",
     "output_type": "stream",
     "text": [
      "100%|██████████| 50/50 [00:00<00:00, 68.42it/s]\n",
      "100%|██████████| 50/50 [00:00<00:00, 227.04it/s]\n",
      " 12%|█▏        | 6/50 [00:00<00:00, 56.67it/s]"
     ]
    },
    {
     "name": "stdout",
     "output_type": "stream",
     "text": [
      "Iter: 47, Test ROC-AUC: 0.9942127929781959\n"
     ]
    },
    {
     "name": "stderr",
     "output_type": "stream",
     "text": [
      "100%|██████████| 50/50 [00:00<00:00, 63.80it/s]\n",
      "100%|██████████| 50/50 [00:00<00:00, 152.53it/s]\n",
      " 12%|█▏        | 6/50 [00:00<00:00, 56.41it/s]"
     ]
    },
    {
     "name": "stdout",
     "output_type": "stream",
     "text": [
      "Iter: 48, Test ROC-AUC: 0.9943215006499229\n"
     ]
    },
    {
     "name": "stderr",
     "output_type": "stream",
     "text": [
      "100%|██████████| 50/50 [00:00<00:00, 58.62it/s]\n",
      "100%|██████████| 50/50 [00:00<00:00, 215.75it/s]\n"
     ]
    },
    {
     "name": "stdout",
     "output_type": "stream",
     "text": [
      "Iter: 49, Test ROC-AUC: 0.994549247221925\n"
     ]
    }
   ],
   "source": [
    "ff_model = ForwardForwardNet(input_dim=input_dim, hidden_dims=hidden_dims, dropout=dropout)\n",
    "\n",
    "for iter in range(num_iters):\n",
    "    ff_model.train()\n",
    "    (X_pos, X_neg) = sample_batch_ff_net(train_X_arr_pos, train_X_arr_neg, batch_size=batch_size)\n",
    "    \n",
    "    \n",
    "    X_pos = torch.tensor(X_pos).float()\n",
    "    X_neg = torch.tensor(X_neg).float()\n",
    "    \n",
    "    ff_model.ff_train(X_pos, X_neg)\n",
    "    \n",
    "    y_pred = ff_model.predict(torch.tensor(test_X_arr).float())\n",
    "    y_pred = y_pred.detach().numpy()\n",
    "    ROC_AUC = roc_auc_score(test_y_arr, y_pred)\n",
    "    print(f'Iter: {iter}, Test ROC-AUC: {ROC_AUC}')"
   ]
  },
  {
   "cell_type": "code",
   "execution_count": 61,
   "metadata": {},
   "outputs": [
    {
     "data": {
      "text/plain": [
       "(array([1.75224593e-01, 3.27324779e-01, 1.29264054e-01, 1.70238475e-02,\n",
       "        3.81403356e-03, 9.22285193e-04, 3.07428302e-04, 1.24892826e-04,\n",
       "        1.92142689e-05, 3.84285617e-05]),\n",
       " array([7.8804762e-04, 1.5296915e+00, 3.0585949e+00, 4.5874982e+00,\n",
       "        6.1164017e+00, 7.6453052e+00, 9.1742086e+00, 1.0703113e+01,\n",
       "        1.2232016e+01, 1.3760920e+01, 1.5289823e+01], dtype=float32),\n",
       " <a list of 10 Patch objects>)"
      ]
     },
     "execution_count": 61,
     "metadata": {},
     "output_type": "execute_result"
    },
    {
     "data": {
      "image/png": "[encoded data removed]",
      "text/plain": [
       "<Figure size 432x288 with 1 Axes>"
      ]
     },
     "metadata": {
      "needs_background": "light"
     },
     "output_type": "display_data"
    }
   ],
   "source": [
    "plt.hist(y_pred[test_y_arr==1], density=True)\n",
    "plt.hist(y_pred[test_y_arr==0], density=True)"
   ]
  },
  {
   "cell_type": "code",
   "execution_count": null,
   "metadata": {},
   "outputs": [],
   "source": []
  }
 ],
 "metadata": {
  "kernelspec": {
   "display_name": "Python 3",
   "language": "python",
   "name": "python3"
  },
  "language_info": {
   "codemirror_mode": {
    "name": "ipython",
    "version": 3
   },
   "file_extension": ".py",
   "mimetype": "text/x-python",
   "name": "python",
   "nbconvert_exporter": "python",
   "pygments_lexer": "ipython3",
   "version": "3.7.3"
  }
 },
 "nbformat": 4,
 "nbformat_minor": 2
}
